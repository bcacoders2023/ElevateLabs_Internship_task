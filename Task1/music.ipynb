{
 "cells": [
  {
   "cell_type": "code",
   "execution_count": 1,
   "id": "9d93c47e",
   "metadata": {},
   "outputs": [],
   "source": [
    "import pandas as pd \n",
    "import numpy as np\n"
   ]
  },
  {
   "cell_type": "code",
   "execution_count": 2,
   "id": "9443baff",
   "metadata": {},
   "outputs": [
    {
     "data": {
      "text/html": [
       "<div>\n",
       "<style scoped>\n",
       "    .dataframe tbody tr th:only-of-type {\n",
       "        vertical-align: middle;\n",
       "    }\n",
       "\n",
       "    .dataframe tbody tr th {\n",
       "        vertical-align: top;\n",
       "    }\n",
       "\n",
       "    .dataframe thead th {\n",
       "        text-align: right;\n",
       "    }\n",
       "</style>\n",
       "<table border=\"1\" class=\"dataframe\">\n",
       "  <thead>\n",
       "    <tr style=\"text-align: right;\">\n",
       "      <th></th>\n",
       "      <th>?Format</th>\n",
       "      <th>Metric</th>\n",
       "      <th>Year</th>\n",
       "      <th>Number of Records</th>\n",
       "      <th>Value (Actual)</th>\n",
       "    </tr>\n",
       "  </thead>\n",
       "  <tbody>\n",
       "    <tr>\n",
       "      <th>0</th>\n",
       "      <td>CD</td>\n",
       "      <td>Units</td>\n",
       "      <td>1973</td>\n",
       "      <td>1</td>\n",
       "      <td>NaN</td>\n",
       "    </tr>\n",
       "    <tr>\n",
       "      <th>1</th>\n",
       "      <td>CD</td>\n",
       "      <td>Units</td>\n",
       "      <td>1974</td>\n",
       "      <td>1</td>\n",
       "      <td>NaN</td>\n",
       "    </tr>\n",
       "    <tr>\n",
       "      <th>2</th>\n",
       "      <td>CD</td>\n",
       "      <td>Units</td>\n",
       "      <td>1975</td>\n",
       "      <td>1</td>\n",
       "      <td>NaN</td>\n",
       "    </tr>\n",
       "  </tbody>\n",
       "</table>\n",
       "</div>"
      ],
      "text/plain": [
       "  ?Format Metric  Year  Number of Records Value (Actual)\n",
       "0      CD  Units  1973                  1            NaN\n",
       "1      CD  Units  1974                  1            NaN\n",
       "2      CD  Units  1975                  1            NaN"
      ]
     },
     "execution_count": 2,
     "metadata": {},
     "output_type": "execute_result"
    }
   ],
   "source": [
    "data=pd.read_csv(\"MusicData.csv\")\n",
    "data.head(3)"
   ]
  },
  {
   "cell_type": "code",
   "execution_count": 3,
   "id": "87bcb48f",
   "metadata": {},
   "outputs": [
    {
     "data": {
      "text/plain": [
       "?Format                 0\n",
       "Metric                  0\n",
       "Year                    0\n",
       "Number of Records       0\n",
       "Value (Actual)       1657\n",
       "dtype: int64"
      ]
     },
     "execution_count": 3,
     "metadata": {},
     "output_type": "execute_result"
    }
   ],
   "source": [
    "data.isnull().sum()"
   ]
  },
  {
   "cell_type": "code",
   "execution_count": 6,
   "id": "c84cbbf6",
   "metadata": {},
   "outputs": [
    {
     "data": {
      "text/plain": [
       "(3008, 5)"
      ]
     },
     "execution_count": 6,
     "metadata": {},
     "output_type": "execute_result"
    }
   ],
   "source": [
    "data.shape"
   ]
  },
  {
   "cell_type": "code",
   "execution_count": 4,
   "id": "ee73e0c9",
   "metadata": {},
   "outputs": [],
   "source": [
    "data_droped=data.dropna()"
   ]
  },
  {
   "cell_type": "code",
   "execution_count": 5,
   "id": "b242194d",
   "metadata": {},
   "outputs": [
    {
     "data": {
      "text/plain": [
       "?Format                 0\n",
       "Metric                  0\n",
       "Year                    0\n",
       "Number of Records       0\n",
       "Value (Actual)       1657\n",
       "dtype: int64"
      ]
     },
     "execution_count": 5,
     "metadata": {},
     "output_type": "execute_result"
    }
   ],
   "source": [
    "data.isnull().sum()"
   ]
  },
  {
   "cell_type": "code",
   "execution_count": 11,
   "id": "0f57567b",
   "metadata": {},
   "outputs": [],
   "source": [
    "df=data['Value (Actual)'].bfill(inplace=True)"
   ]
  },
  {
   "cell_type": "code",
   "execution_count": 12,
   "id": "9365468c",
   "metadata": {},
   "outputs": [
    {
     "data": {
      "text/plain": [
       "?Format              0\n",
       "Metric               0\n",
       "Year                 0\n",
       "Number of Records    0\n",
       "Value (Actual)       0\n",
       "dtype: int64"
      ]
     },
     "execution_count": 12,
     "metadata": {},
     "output_type": "execute_result"
    }
   ],
   "source": [
    "data.isnull().sum()"
   ]
  },
  {
   "cell_type": "code",
   "execution_count": 13,
   "id": "0415e234",
   "metadata": {},
   "outputs": [
    {
     "data": {
      "text/html": [
       "<div>\n",
       "<style scoped>\n",
       "    .dataframe tbody tr th:only-of-type {\n",
       "        vertical-align: middle;\n",
       "    }\n",
       "\n",
       "    .dataframe tbody tr th {\n",
       "        vertical-align: top;\n",
       "    }\n",
       "\n",
       "    .dataframe thead th {\n",
       "        text-align: right;\n",
       "    }\n",
       "</style>\n",
       "<table border=\"1\" class=\"dataframe\">\n",
       "  <thead>\n",
       "    <tr style=\"text-align: right;\">\n",
       "      <th></th>\n",
       "      <th>?Format</th>\n",
       "      <th>Metric</th>\n",
       "      <th>Year</th>\n",
       "      <th>Number of Records</th>\n",
       "      <th>Value (Actual)</th>\n",
       "    </tr>\n",
       "  </thead>\n",
       "  <tbody>\n",
       "    <tr>\n",
       "      <th>0</th>\n",
       "      <td>CD</td>\n",
       "      <td>Units</td>\n",
       "      <td>1973</td>\n",
       "      <td>1</td>\n",
       "      <td>0.8</td>\n",
       "    </tr>\n",
       "    <tr>\n",
       "      <th>1</th>\n",
       "      <td>CD</td>\n",
       "      <td>Units</td>\n",
       "      <td>1974</td>\n",
       "      <td>1</td>\n",
       "      <td>0.8</td>\n",
       "    </tr>\n",
       "    <tr>\n",
       "      <th>2</th>\n",
       "      <td>CD</td>\n",
       "      <td>Units</td>\n",
       "      <td>1975</td>\n",
       "      <td>1</td>\n",
       "      <td>0.8</td>\n",
       "    </tr>\n",
       "    <tr>\n",
       "      <th>3</th>\n",
       "      <td>CD</td>\n",
       "      <td>Units</td>\n",
       "      <td>1976</td>\n",
       "      <td>1</td>\n",
       "      <td>0.8</td>\n",
       "    </tr>\n",
       "    <tr>\n",
       "      <th>4</th>\n",
       "      <td>CD</td>\n",
       "      <td>Units</td>\n",
       "      <td>1977</td>\n",
       "      <td>1</td>\n",
       "      <td>0.8</td>\n",
       "    </tr>\n",
       "    <tr>\n",
       "      <th>...</th>\n",
       "      <td>...</td>\n",
       "      <td>...</td>\n",
       "      <td>...</td>\n",
       "      <td>...</td>\n",
       "      <td>...</td>\n",
       "    </tr>\n",
       "    <tr>\n",
       "      <th>3003</th>\n",
       "      <td>Vinyl Single</td>\n",
       "      <td>Value (Adjusted)</td>\n",
       "      <td>2015</td>\n",
       "      <td>1</td>\n",
       "      <td>6.205390253</td>\n",
       "    </tr>\n",
       "    <tr>\n",
       "      <th>3004</th>\n",
       "      <td>Vinyl Single</td>\n",
       "      <td>Value (Adjusted)</td>\n",
       "      <td>2016</td>\n",
       "      <td>1</td>\n",
       "      <td>5.198931395</td>\n",
       "    </tr>\n",
       "    <tr>\n",
       "      <th>3005</th>\n",
       "      <td>Vinyl Single</td>\n",
       "      <td>Value (Adjusted)</td>\n",
       "      <td>2017</td>\n",
       "      <td>1</td>\n",
       "      <td>6.33967756</td>\n",
       "    </tr>\n",
       "    <tr>\n",
       "      <th>3006</th>\n",
       "      <td>Vinyl Single</td>\n",
       "      <td>Value (Adjusted)</td>\n",
       "      <td>2018</td>\n",
       "      <td>1</td>\n",
       "      <td>5.386196747</td>\n",
       "    </tr>\n",
       "    <tr>\n",
       "      <th>3007</th>\n",
       "      <td>Vinyl Single</td>\n",
       "      <td>Value (Adjusted)</td>\n",
       "      <td>2019</td>\n",
       "      <td>1</td>\n",
       "      <td>6.795945687</td>\n",
       "    </tr>\n",
       "  </tbody>\n",
       "</table>\n",
       "<p>3001 rows × 5 columns</p>\n",
       "</div>"
      ],
      "text/plain": [
       "           ?Format            Metric  Year  Number of Records Value (Actual)\n",
       "0               CD             Units  1973                  1            0.8\n",
       "1               CD             Units  1974                  1            0.8\n",
       "2               CD             Units  1975                  1            0.8\n",
       "3               CD             Units  1976                  1            0.8\n",
       "4               CD             Units  1977                  1            0.8\n",
       "...            ...               ...   ...                ...            ...\n",
       "3003  Vinyl Single  Value (Adjusted)  2015                  1    6.205390253\n",
       "3004  Vinyl Single  Value (Adjusted)  2016                  1    5.198931395\n",
       "3005  Vinyl Single  Value (Adjusted)  2017                  1     6.33967756\n",
       "3006  Vinyl Single  Value (Adjusted)  2018                  1    5.386196747\n",
       "3007  Vinyl Single  Value (Adjusted)  2019                  1    6.795945687\n",
       "\n",
       "[3001 rows x 5 columns]"
      ]
     },
     "execution_count": 13,
     "metadata": {},
     "output_type": "execute_result"
    }
   ],
   "source": [
    "data.drop_duplicates()"
   ]
  },
  {
   "cell_type": "code",
   "execution_count": 14,
   "id": "94ae4986",
   "metadata": {},
   "outputs": [
    {
     "data": {
      "text/plain": [
       "(3008, 5)"
      ]
     },
     "execution_count": 14,
     "metadata": {},
     "output_type": "execute_result"
    }
   ],
   "source": [
    "data.shape"
   ]
  },
  {
   "cell_type": "markdown",
   "id": "e937e949",
   "metadata": {},
   "source": [
    "We can not apply the  duplicate function this data base because here is no any uique id/column"
   ]
  },
  {
   "cell_type": "code",
   "execution_count": 20,
   "id": "286d28b2",
   "metadata": {},
   "outputs": [
    {
     "data": {
      "text/plain": [
       "(3008, 5)"
      ]
     },
     "execution_count": 20,
     "metadata": {},
     "output_type": "execute_result"
    }
   ],
   "source": [
    "data.shape"
   ]
  },
  {
   "cell_type": "code",
   "execution_count": 22,
   "id": "11004533",
   "metadata": {},
   "outputs": [],
   "source": [
    "for col in data.select_dtypes(include='object').columns:\n",
    "    data[col]=data[col].str.lower()"
   ]
  },
  {
   "cell_type": "code",
   "execution_count": 26,
   "id": "6ac18171",
   "metadata": {},
   "outputs": [
    {
     "name": "stdout",
     "output_type": "stream",
     "text": [
      "0               0.8\n",
      "1               0.8\n",
      "2               0.8\n",
      "3               0.8\n",
      "4               0.8\n",
      "           ...     \n",
      "3003    6.205390253\n",
      "3004    5.198931395\n",
      "3005     6.33967756\n",
      "3006    5.386196747\n",
      "3007    6.795945687\n",
      "Name: Value (Actual), Length: 3008, dtype: object\n"
     ]
    }
   ],
   "source": [
    "print(data[col])"
   ]
  },
  {
   "cell_type": "code",
   "execution_count": 23,
   "id": "0b564028",
   "metadata": {},
   "outputs": [
    {
     "name": "stdout",
     "output_type": "stream",
     "text": [
      "           ?Format            Metric  Year  Number of Records Value (Actual)\n",
      "0               cd             units  1973                  1            0.8\n",
      "1               cd             units  1974                  1            0.8\n",
      "2               cd             units  1975                  1            0.8\n",
      "3               cd             units  1976                  1            0.8\n",
      "4               cd             units  1977                  1            0.8\n",
      "...            ...               ...   ...                ...            ...\n",
      "3003  vinyl single  value (adjusted)  2015                  1    6.205390253\n",
      "3004  vinyl single  value (adjusted)  2016                  1    5.198931395\n",
      "3005  vinyl single  value (adjusted)  2017                  1     6.33967756\n",
      "3006  vinyl single  value (adjusted)  2018                  1    5.386196747\n",
      "3007  vinyl single  value (adjusted)  2019                  1    6.795945687\n",
      "\n",
      "[3008 rows x 5 columns]\n"
     ]
    }
   ],
   "source": [
    "print(data)"
   ]
  },
  {
   "cell_type": "code",
   "execution_count": 24,
   "id": "2fdbbb03",
   "metadata": {},
   "outputs": [
    {
     "ename": "AttributeError",
     "evalue": "'DataFrame' object has no attribute 'column'",
     "output_type": "error",
     "traceback": [
      "\u001b[31m---------------------------------------------------------------------------\u001b[39m",
      "\u001b[31mAttributeError\u001b[39m                            Traceback (most recent call last)",
      "\u001b[32m~\\AppData\\Local\\Temp\\ipykernel_18608\\2922883262.py\u001b[39m in \u001b[36m?\u001b[39m\u001b[34m()\u001b[39m\n\u001b[32m----> \u001b[39m\u001b[32m1\u001b[39m \u001b[38;5;28;01mfor\u001b[39;00m col \u001b[38;5;28;01min\u001b[39;00m data.select_dtypes(include=\u001b[33m'object'\u001b[39m).column:\n\u001b[32m      2\u001b[39m     data[col]=data[col].str.upper()\n",
      "\u001b[32mc:\\Users\\Yogesh\\AppData\\Local\\Programs\\Python\\Python313\\Lib\\site-packages\\pandas\\core\\generic.py\u001b[39m in \u001b[36m?\u001b[39m\u001b[34m(self, name)\u001b[39m\n\u001b[32m   6295\u001b[39m             \u001b[38;5;28;01mand\u001b[39;00m name \u001b[38;5;28;01mnot\u001b[39;00m \u001b[38;5;28;01min\u001b[39;00m self._accessors\n\u001b[32m   6296\u001b[39m             \u001b[38;5;28;01mand\u001b[39;00m self._info_axis._can_hold_identifiers_and_holds_name(name)\n\u001b[32m   6297\u001b[39m         ):\n\u001b[32m   6298\u001b[39m             \u001b[38;5;28;01mreturn\u001b[39;00m self[name]\n\u001b[32m-> \u001b[39m\u001b[32m6299\u001b[39m         \u001b[38;5;28;01mreturn\u001b[39;00m object.__getattribute__(self, name)\n",
      "\u001b[31mAttributeError\u001b[39m: 'DataFrame' object has no attribute 'column'"
     ]
    }
   ],
   "source": [
    "for col in data.select_dtypes(include='object').column:\n",
    "    data[col]=data[col].str.upper()"
   ]
  },
  {
   "cell_type": "code",
   "execution_count": null,
   "id": "b42e2790",
   "metadata": {},
   "outputs": [],
   "source": [
    "for col in data.select_dtypes(include='object').columns:\n",
    "    data[col] = data[col].str.upper()\n",
    "print(data[col])"
   ]
  }
 ],
 "metadata": {
  "kernelspec": {
   "display_name": "Python 3",
   "language": "python",
   "name": "python3"
  },
  "language_info": {
   "codemirror_mode": {
    "name": "ipython",
    "version": 3
   },
   "file_extension": ".py",
   "mimetype": "text/x-python",
   "name": "python",
   "nbconvert_exporter": "python",
   "pygments_lexer": "ipython3",
   "version": "3.13.2"
  }
 },
 "nbformat": 4,
 "nbformat_minor": 5
}
